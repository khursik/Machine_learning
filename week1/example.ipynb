{
 "cells": [
  {
   "cell_type": "code",
   "execution_count": 1,
   "metadata": {
    "collapsed": true
   },
   "outputs": [],
   "source": [
    "import numpy as np"
   ]
  },
  {
   "cell_type": "code",
   "execution_count": 4,
   "outputs": [
    {
     "name": "stdout",
     "output_type": "stream",
     "text": [
      "[[-1.04800807e+01 -2.00103729e+00 -1.58482158e+01 ... -1.68060973e+00\n",
      "  -8.46456162e+00 -3.85872395e+00]\n",
      " [ 2.30749630e+00  7.59320118e+00 -9.12983534e-01 ... -8.21847211e+00\n",
      "   8.10858913e+00  7.34816745e+00]\n",
      " [ 5.08141624e+00 -7.48262965e+00  1.69912814e+00 ... -5.49474055e+00\n",
      "   8.59533993e+00  6.93945843e+00]\n",
      " ...\n",
      " [-9.59389494e+00 -1.29999521e+01  5.22229381e+00 ...  3.93518159e+00\n",
      "   5.91046615e+00  1.64306197e+01]\n",
      " [-4.96960978e+00 -4.64802978e+00 -1.62251971e+00 ...  6.34649494e-03\n",
      "  -6.52238755e+00 -1.18721720e+01]\n",
      " [ 6.57196527e-01 -6.05377900e+00 -2.34050661e-01 ...  5.29574949e+00\n",
      "  -4.89647781e+00  5.06371858e+00]]\n"
     ]
    }
   ],
   "source": [
    "X = np.random.normal(loc=1, scale=10, size=(1000,50))\n",
    "print(X)"
   ],
   "metadata": {
    "collapsed": false,
    "pycharm": {
     "name": "#%%\n"
    }
   }
  },
  {
   "cell_type": "code",
   "execution_count": 6,
   "outputs": [
    {
     "name": "stdout",
     "output_type": "stream",
     "text": [
      "[[-1.16125344 -0.31441924 -1.66112838 ... -0.21926185 -0.96413809\n",
      "  -0.50210235]\n",
      " [ 0.09530195  0.61960041 -0.16622818 ... -0.8672839   0.67372138\n",
      "   0.62683466]\n",
      " [ 0.36787776 -0.84806399  0.09522381 ... -0.59731215  0.72182505\n",
      "   0.58566296]\n",
      " ...\n",
      " [-1.0741735  -1.38518714  0.4478652  ...  0.33736606  0.45648951\n",
      "   1.54176424]\n",
      " [-0.61977386 -0.57210963 -0.23724722 ... -0.05205355 -0.77220065\n",
      "  -1.30934476]\n",
      " [-0.06686271 -0.70896232 -0.0982723  ...  0.47222329 -0.61151837\n",
      "   0.3967085 ]]\n"
     ]
    }
   ],
   "source": [
    "m = np.mean(X, axis=0)\n",
    "std = np.std(X, axis=0)\n",
    "X_norm = (X - m) / std\n",
    "print(X_norm)"
   ],
   "metadata": {
    "collapsed": false,
    "pycharm": {
     "name": "#%%\n"
    }
   }
  },
  {
   "cell_type": "code",
   "execution_count": 7,
   "outputs": [],
   "source": [
    "Z = np.array([[4, 5, 0],\n",
    "              [1, 9, 3],\n",
    "              [5, 1, 1],\n",
    "              [3, 3, 3],\n",
    "              [9, 9, 9],\n",
    "              [4, 7, 1]])"
   ],
   "metadata": {
    "collapsed": false,
    "pycharm": {
     "name": "#%%\n"
    }
   }
  },
  {
   "cell_type": "code",
   "execution_count": 10,
   "outputs": [
    {
     "name": "stdout",
     "output_type": "stream",
     "text": [
      "(array([1, 4, 5], dtype=int64),)\n"
     ]
    }
   ],
   "source": [
    "print(np.nonzero(np.sum(Z, axis=1) > 10))"
   ],
   "metadata": {
    "collapsed": false,
    "pycharm": {
     "name": "#%%\n"
    }
   }
  },
  {
   "cell_type": "code",
   "execution_count": 12,
   "outputs": [
    {
     "name": "stdout",
     "output_type": "stream",
     "text": [
      "[[1. 0. 0.]\n",
      " [0. 1. 0.]\n",
      " [0. 0. 1.]]\n",
      "[[1. 0. 0.]\n",
      " [0. 1. 0.]\n",
      " [0. 0. 1.]]\n"
     ]
    }
   ],
   "source": [
    "A, B = np.eye(3), np.eye(3)\n",
    "print(A)\n",
    "print(B)"
   ],
   "metadata": {
    "collapsed": false,
    "pycharm": {
     "name": "#%%\n"
    }
   }
  },
  {
   "cell_type": "code",
   "execution_count": 14,
   "outputs": [
    {
     "name": "stdout",
     "output_type": "stream",
     "text": [
      "[[1. 0. 0.]\n",
      " [0. 1. 0.]\n",
      " [0. 0. 1.]\n",
      " [1. 0. 0.]\n",
      " [0. 1. 0.]\n",
      " [0. 0. 1.]]\n"
     ]
    }
   ],
   "source": [
    "AB = np.vstack((A, B))\n",
    "print(AB)"
   ],
   "metadata": {
    "collapsed": false,
    "pycharm": {
     "name": "#%%\n"
    }
   }
  }
 ],
 "metadata": {
  "kernelspec": {
   "display_name": "Python 3",
   "language": "python",
   "name": "python3"
  },
  "language_info": {
   "codemirror_mode": {
    "name": "ipython",
    "version": 2
   },
   "file_extension": ".py",
   "mimetype": "text/x-python",
   "name": "python",
   "nbconvert_exporter": "python",
   "pygments_lexer": "ipython2",
   "version": "2.7.6"
  }
 },
 "nbformat": 4,
 "nbformat_minor": 0
}