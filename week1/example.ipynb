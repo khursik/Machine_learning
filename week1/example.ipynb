{
 "cells": [
  {
   "cell_type": "code",
   "execution_count": 1,
   "metadata": {
    "collapsed": true
   },
   "outputs": [],
   "source": [
    "import numpy as np"
   ]
  },
  {
   "cell_type": "code",
   "execution_count": 2,
   "outputs": [
    {
     "name": "stdout",
     "output_type": "stream",
     "text": [
      "[[ 13.02965222   4.73321577  12.47954643 ...  -5.12211289  -2.78422828\n",
      "    8.26177187]\n",
      " [  6.13811892 -10.41226577 -18.31427617 ...  -2.4357277    0.18362207\n",
      "    0.68895072]\n",
      " [  0.39618872  -6.25615223 -14.12506162 ...  10.39611214   4.53952367\n",
      "  -12.20850534]\n",
      " ...\n",
      " [ 14.56086236   7.81855352   8.97629265 ... -21.47421667  14.48151793\n",
      "    1.69888539]\n",
      " [ -8.69226274  11.17874634  20.72962256 ... -23.26208893  17.7548076\n",
      "    2.28638599]\n",
      " [ 22.89817917  -4.48555416   3.634978   ... -21.4038702   14.40771991\n",
      "   -6.85417426]]\n"
     ]
    }
   ],
   "source": [
    "X = np.random.normal(loc=1, scale=10, size=(1000,50))\n",
    "print(X)"
   ],
   "metadata": {
    "collapsed": false,
    "pycharm": {
     "name": "#%%\n"
    }
   }
  },
  {
   "cell_type": "code",
   "execution_count": 3,
   "outputs": [
    {
     "name": "stdout",
     "output_type": "stream",
     "text": [
      "[[ 1.13068966  0.37257276  1.13548506 ... -0.57622652 -0.35269644\n",
      "   0.72881886]\n",
      " [ 0.44661614 -1.12590725 -1.87129452 ... -0.30906364 -0.05057144\n",
      "  -0.01959427]\n",
      " [-0.12334446 -0.7147052  -1.46224999 ...  0.9670718   0.39285617\n",
      "  -1.29423489]\n",
      " ...\n",
      " [ 1.28268201  0.67783324  0.79341932 ... -2.20245467  1.40494393\n",
      "   0.08021641]\n",
      " [-1.02549043  1.01028763  1.94104145 ... -2.38025982  1.73816243\n",
      "   0.13827841]\n",
      " [ 2.11026818 -0.53952386  0.27188108 ... -2.19545867  1.39743134\n",
      "  -0.76507256]]\n"
     ]
    }
   ],
   "source": [
    "m = np.mean(X, axis=0)\n",
    "std = np.std(X, axis=0)\n",
    "X_norm = (X - m) / std\n",
    "print(X_norm)"
   ],
   "metadata": {
    "collapsed": false,
    "pycharm": {
     "name": "#%%\n"
    }
   }
  },
  {
   "cell_type": "code",
   "execution_count": 4,
   "outputs": [],
   "source": [
    "Z = np.array([[4, 5, 0],\n",
    "              [1, 9, 3],\n",
    "              [5, 1, 1],\n",
    "              [3, 3, 3],\n",
    "              [9, 9, 9],\n",
    "              [4, 7, 1]])"
   ],
   "metadata": {
    "collapsed": false,
    "pycharm": {
     "name": "#%%\n"
    }
   }
  },
  {
   "cell_type": "code",
   "execution_count": 5,
   "outputs": [
    {
     "name": "stdout",
     "output_type": "stream",
     "text": [
      "(array([1, 4, 5]),)\n"
     ]
    }
   ],
   "source": [
    "print(np.nonzero(np.sum(Z, axis=1) > 10))"
   ],
   "metadata": {
    "collapsed": false,
    "pycharm": {
     "name": "#%%\n"
    }
   }
  },
  {
   "cell_type": "code",
   "execution_count": 6,
   "outputs": [
    {
     "name": "stdout",
     "output_type": "stream",
     "text": [
      "[[1. 0. 0.]\n",
      " [0. 1. 0.]\n",
      " [0. 0. 1.]]\n",
      "[[1. 0. 0.]\n",
      " [0. 1. 0.]\n",
      " [0. 0. 1.]]\n"
     ]
    }
   ],
   "source": [
    "A, B = np.eye(3), np.eye(3)\n",
    "print(A)\n",
    "print(B)"
   ],
   "metadata": {
    "collapsed": false,
    "pycharm": {
     "name": "#%%\n"
    }
   }
  },
  {
   "cell_type": "code",
   "execution_count": 7,
   "outputs": [
    {
     "name": "stdout",
     "output_type": "stream",
     "text": [
      "[[1. 0. 0.]\n",
      " [0. 1. 0.]\n",
      " [0. 0. 1.]\n",
      " [1. 0. 0.]\n",
      " [0. 1. 0.]\n",
      " [0. 0. 1.]]\n"
     ]
    }
   ],
   "source": [
    "AB = np.vstack((A, B))\n",
    "print(AB)"
   ],
   "metadata": {
    "collapsed": false,
    "pycharm": {
     "name": "#%%\n"
    }
   }
  }
 ],
 "metadata": {
  "kernelspec": {
   "display_name": "Python 3",
   "language": "python",
   "name": "python3"
  },
  "language_info": {
   "codemirror_mode": {
    "name": "ipython",
    "version": 2
   },
   "file_extension": ".py",
   "mimetype": "text/x-python",
   "name": "python",
   "nbconvert_exporter": "python",
   "pygments_lexer": "ipython2",
   "version": "2.7.6"
  }
 },
 "nbformat": 4,
 "nbformat_minor": 0
}