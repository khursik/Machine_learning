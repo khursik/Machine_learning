{
 "cells": [
  {
   "cell_type": "code",
   "execution_count": null,
   "outputs": [],
   "source": [
    "import pandas as pd\n",
    "from sklearn import model_selection as ms\n",
    "from sklearn import neighbors as nb\n",
    "from sklearn import preprocessing as pc"
   ],
   "metadata": {
    "collapsed": false,
    "pycharm": {
     "name": "#%%\n"
    }
   }
  },
  {
   "cell_type": "code",
   "execution_count": null,
   "outputs": [],
   "source": [
    "col_names = ['class'] + [str(i) for i in range(1, 14)]\n",
    "ds = pd.read_csv('data/wine.data', sep=',', names=col_names)\n",
    "ds"
   ],
   "metadata": {
    "collapsed": false,
    "pycharm": {
     "name": "#%%\n"
    }
   }
  },
  {
   "cell_type": "markdown",
   "metadata": {
    "collapsed": false,
    "jupyter": {
     "outputs_hidden": false
    },
    "pycharm": {
     "name": "#%% md\n"
    }
   },
   "source": [
    "### Найдём точность классификации на кросс-валидации и оптимальное k без нормировки признаков"
   ]
  },
  {
   "cell_type": "code",
   "metadata": {
    "collapsed": false,
    "jupyter": {
     "outputs_hidden": false
    },
    "pycharm": {
     "name": "#%%\n"
    }
   },
   "source": [
    "X = ds.loc[:, ds.columns != 'class']\n",
    "#print(type(X))\n",
    "y = ds['class']\n",
    "#print(type(y))\n",
    "cv = ms.KFold(n_splits=5, shuffle=True, random_state=42)\n",
    "\n",
    "def get_classification_accuracy(X: pd.DataFrame, y: pd.Series, cv) -> tuple[float, int]:\n",
    "    best_score, opt_k = None, None\n",
    "    for k in range(1, 51):\n",
    "        model = nb.KNeighborsClassifier(n_neighbors=k)\n",
    "        score = ms.cross_val_score(estimator=model, X=X, y=y, cv=cv, scoring=\"accuracy\").mean()\n",
    "        if best_score is None or score >= best_score:\n",
    "            best_score, opt_k = score, k\n",
    "    return best_score, opt_k\n",
    "\n",
    "score, k = get_classification_accuracy(X, y, cv)\n",
    "\n",
    "f\"{score:.2f}\", k"
   ],
   "execution_count": 39,
   "outputs": [
    {
     "data": {
      "text/plain": "('0.73', 1)"
     },
     "execution_count": 39,
     "metadata": {},
     "output_type": "execute_result"
    }
   ]
  },
  {
   "cell_type": "markdown",
   "source": [
    "### Приведем признаки к одному масштабу"
   ],
   "metadata": {
    "collapsed": false,
    "pycharm": {
     "name": "#%% md\n"
    }
   }
  },
  {
   "cell_type": "code",
   "execution_count": 40,
   "outputs": [
    {
     "data": {
      "text/plain": "('0.98', 29)"
     },
     "execution_count": 40,
     "metadata": {},
     "output_type": "execute_result"
    }
   ],
   "source": [
    "scale_score, scale_k = get_classification_accuracy(pc.scale(X), y, cv)\n",
    "f\"{scale_score:.2f}\", scale_k"
   ],
   "metadata": {
    "collapsed": false,
    "pycharm": {
     "name": "#%%\n"
    }
   }
  }
 ],
 "metadata": {
  "kernelspec": {
   "display_name": "Python 3 (ipykernel)",
   "language": "python",
   "name": "python3"
  },
  "language_info": {
   "codemirror_mode": {
    "name": "ipython",
    "version": 3
   },
   "file_extension": ".py",
   "mimetype": "text/x-python",
   "name": "python",
   "nbconvert_exporter": "python",
   "pygments_lexer": "ipython3",
   "version": "3.9.10"
  }
 },
 "nbformat": 4,
 "nbformat_minor": 4
}