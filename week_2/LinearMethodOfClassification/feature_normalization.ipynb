{
 "cells": [
  {
   "cell_type": "code",
   "execution_count": 1,
   "id": "056ed259-d068-42ef-8ccd-2a1434380443",
   "metadata": {
    "tags": []
   },
   "outputs": [],
   "source": [
    "import pandas as pd\n",
    "import numpy as np\n",
    "from sklearn.linear_model import Perceptron\n",
    "from sklearn.preprocessing import StandardScaler\n",
    "from sklearn.metrics import accuracy_score"
   ]
  },
  {
   "cell_type": "code",
   "execution_count": 2,
   "id": "d36a4d49-6ba1-4ae6-8a98-c582a58d39bf",
   "metadata": {
    "tags": []
   },
   "outputs": [
    {
     "data": {
      "text/html": [
       "<div>\n",
       "<style scoped>\n",
       "    .dataframe tbody tr th:only-of-type {\n",
       "        vertical-align: middle;\n",
       "    }\n",
       "\n",
       "    .dataframe tbody tr th {\n",
       "        vertical-align: top;\n",
       "    }\n",
       "\n",
       "    .dataframe thead th {\n",
       "        text-align: right;\n",
       "    }\n",
       "</style>\n",
       "<table border=\"1\" class=\"dataframe\">\n",
       "  <thead>\n",
       "    <tr style=\"text-align: right;\">\n",
       "      <th></th>\n",
       "      <th>target</th>\n",
       "      <th>feature_1</th>\n",
       "      <th>feature_2</th>\n",
       "    </tr>\n",
       "  </thead>\n",
       "  <tbody>\n",
       "    <tr>\n",
       "      <th>0</th>\n",
       "      <td>-1.0</td>\n",
       "      <td>-0.024626</td>\n",
       "      <td>1174.600238</td>\n",
       "    </tr>\n",
       "    <tr>\n",
       "      <th>1</th>\n",
       "      <td>1.0</td>\n",
       "      <td>-0.978058</td>\n",
       "      <td>1083.198803</td>\n",
       "    </tr>\n",
       "    <tr>\n",
       "      <th>2</th>\n",
       "      <td>-1.0</td>\n",
       "      <td>0.314272</td>\n",
       "      <td>-1472.977609</td>\n",
       "    </tr>\n",
       "    <tr>\n",
       "      <th>3</th>\n",
       "      <td>-1.0</td>\n",
       "      <td>0.179752</td>\n",
       "      <td>231.017267</td>\n",
       "    </tr>\n",
       "    <tr>\n",
       "      <th>4</th>\n",
       "      <td>1.0</td>\n",
       "      <td>-1.262544</td>\n",
       "      <td>-778.271726</td>\n",
       "    </tr>\n",
       "  </tbody>\n",
       "</table>\n",
       "</div>"
      ],
      "text/plain": [
       "   target  feature_1    feature_2\n",
       "0    -1.0  -0.024626  1174.600238\n",
       "1     1.0  -0.978058  1083.198803\n",
       "2    -1.0   0.314272 -1472.977609\n",
       "3    -1.0   0.179752   231.017267\n",
       "4     1.0  -1.262544  -778.271726"
      ]
     },
     "execution_count": 2,
     "metadata": {},
     "output_type": "execute_result"
    }
   ],
   "source": [
    "df_train = pd.read_csv('data\\perceptron-train.csv', delimiter=',', names=['target', 'feature_1', 'feature_2'])\n",
    "df_test = pd.read_csv('data\\perceptron-test.csv', delimiter=',', names=['target', 'feature_1', 'feature_2'])\n",
    "df_train.head()"
   ]
  },
  {
   "cell_type": "code",
   "execution_count": 3,
   "id": "340e9b01-6112-45f0-98ba-a92f0986aa4c",
   "metadata": {
    "tags": []
   },
   "outputs": [],
   "source": [
    "#подготавливаем данные\n",
    "X_train = df_train.loc[:, ['feature_1', 'feature_2']]\n",
    "y_train = df_train.target\n",
    "X_test = df_test.loc[:, ['feature_1', 'feature_2']]\n",
    "y_test = df_test.target"
   ]
  },
  {
   "cell_type": "code",
   "execution_count": 4,
   "id": "46f67de5-3803-4d8e-a20a-1f71619d2a49",
   "metadata": {
    "tags": []
   },
   "outputs": [],
   "source": [
    "#обучаем классификатор\n",
    "clf = Perceptron(max_iter=5, tol=None,random_state=241)\n",
    "clf.fit(X_train, y_train)\n",
    "y_pred = clf.predict(X_test)"
   ]
  },
  {
   "cell_type": "code",
   "execution_count": 5,
   "id": "b51d0e80-aab0-48b8-bf6d-53cefd58782d",
   "metadata": {
    "tags": []
   },
   "outputs": [
    {
     "data": {
      "text/plain": [
       "0.655"
      ]
     },
     "execution_count": 5,
     "metadata": {},
     "output_type": "execute_result"
    }
   ],
   "source": [
    "# Подсчитаем долю правильно классифицированных объектов полученного классификатора на тестовой выборке\n",
    "score = accuracy_score(y_test, y_pred)\n",
    "score"
   ]
  },
  {
   "cell_type": "code",
   "execution_count": 6,
   "id": "d16cea31-8a2d-4292-b010-812dae379a6c",
   "metadata": {
    "tags": []
   },
   "outputs": [],
   "source": [
    "#Нормализуем обучающую и тестовую выборку с помощью класса StandardScaler\n",
    "scaler = StandardScaler()\n",
    "X_train_scaled = scaler.fit_transform(X_train)\n",
    "X_test_scaled = scaler.transform(X_test)"
   ]
  },
  {
   "cell_type": "code",
   "execution_count": 7,
   "id": "9ef6304c-a057-4561-b7ca-8cb273d07fe8",
   "metadata": {
    "tags": []
   },
   "outputs": [],
   "source": [
    "#Обучим Perceptron на новых выборках\n",
    "clf = Perceptron(max_iter=5, tol=None,random_state=241)\n",
    "clf.fit(X_train_scaled, y_train)\n",
    "y_pred_scaled = clf.predict(X_test_scaled)"
   ]
  },
  {
   "cell_type": "code",
   "execution_count": 8,
   "id": "fa1adfe5-3554-43d6-aa4a-d5aaf599abf4",
   "metadata": {
    "tags": []
   },
   "outputs": [
    {
     "data": {
      "text/plain": [
       "0.84"
      ]
     },
     "execution_count": 8,
     "metadata": {},
     "output_type": "execute_result"
    }
   ],
   "source": [
    "# Подсчитаем долю правильно классифицированных объектов полученного классификатора на тестовой выборке\n",
    "score_with_scale = accuracy_score(y_test, y_pred_scaled)\n",
    "score_with_scale"
   ]
  },
  {
   "cell_type": "code",
   "execution_count": 9,
   "id": "4d2b710c-eddb-44e5-8536-6c1ee9a057d0",
   "metadata": {},
   "outputs": [],
   "source": [
    "# Найдём разность между качеством на тестовой выборке после нормализации и качеством до нее\n",
    "# и запишем в файлик\n",
    "delta = abs(score_with_scale - score)\n",
    "with open('answer.txt', 'w') as f:\n",
    "    f.write(f\"{delta:.3f}\")"
   ]
  }
 ],
 "metadata": {
  "kernelspec": {
   "display_name": "Python 3 (ipykernel)",
   "language": "python",
   "name": "python3"
  },
  "language_info": {
   "codemirror_mode": {
    "name": "ipython",
    "version": 3
   },
   "file_extension": ".py",
   "mimetype": "text/x-python",
   "name": "python",
   "nbconvert_exporter": "python",
   "pygments_lexer": "ipython3",
   "version": "3.9.7"
  }
 },
 "nbformat": 4,
 "nbformat_minor": 5
}
